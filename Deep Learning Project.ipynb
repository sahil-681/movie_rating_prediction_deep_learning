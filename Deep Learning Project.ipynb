{
 "cells": [
  {
   "cell_type": "markdown",
   "id": "79ddca2b",
   "metadata": {},
   "source": [
    "## MOVIE RATING PREDICTION BASED ON MOVIE REVIEWS\n",
    "### Deep Learning Final Project\n",
    "#### Sahil Singh"
   ]
  },
  {
   "cell_type": "code",
   "execution_count": 108,
   "id": "e62acabe",
   "metadata": {
    "execution": {
     "iopub.execute_input": "2022-06-14T14:27:51.566059Z",
     "iopub.status.busy": "2022-06-14T14:27:51.565451Z",
     "iopub.status.idle": "2022-06-14T14:27:55.568429Z",
     "shell.execute_reply": "2022-06-14T14:27:55.567430Z"
    },
    "papermill": {
     "duration": 4.03537,
     "end_time": "2022-06-14T14:27:55.570850",
     "exception": false,
     "start_time": "2022-06-14T14:27:51.535480",
     "status": "completed"
    },
    "tags": []
   },
   "outputs": [
    {
     "name": "stderr",
     "output_type": "stream",
     "text": [
      "[nltk_data] Downloading package stopwords to /Users/sahil/nltk_data...\n",
      "[nltk_data]   Package stopwords is already up-to-date!\n",
      "[nltk_data] Downloading package wordnet to /Users/sahil/nltk_data...\n",
      "[nltk_data]   Package wordnet is already up-to-date!\n"
     ]
    }
   ],
   "source": [
    "import pandas as pd\n",
    "import numpy as np\n",
    "import torch\n",
    "from torch import nn\n",
    "from torch.optim import Adam\n",
    "import torch.nn.functional as F\n",
    "from torch.utils.data import TensorDataset, DataLoader\n",
    "import matplotlib.pyplot as plt\n",
    "import seaborn as sns\n",
    "\n",
    "import re\n",
    "import nltk\n",
    "from nltk.tokenize import word_tokenize, sent_tokenize\n",
    "from nltk.corpus import stopwords\n",
    "from nltk.stem.wordnet import WordNetLemmatizer\n",
    "nltk.download('stopwords')\n",
    "nltk.download('wordnet')\n",
    "stopwords = set(stopwords.words('english'))\n",
    "\n",
    "from sklearn.metrics import classification_report, confusion_matrix"
   ]
  },
  {
   "cell_type": "markdown",
   "id": "288c9c66",
   "metadata": {
    "papermill": {
     "duration": 0.016157,
     "end_time": "2022-06-14T14:27:55.603280",
     "exception": false,
     "start_time": "2022-06-14T14:27:55.587123",
     "status": "completed"
    },
    "tags": []
   },
   "source": [
    "### Data prepocessing and exploration"
   ]
  },
  {
   "cell_type": "code",
   "execution_count": 12,
   "id": "153db8e1",
   "metadata": {},
   "outputs": [
    {
     "name": "stdout",
     "output_type": "stream",
     "text": [
      "GPU not available, CPU used\n"
     ]
    }
   ],
   "source": [
    "# my computer does not have a GPU but included for generalizing the use case of this notebook\n",
    "is_cuda = torch.cuda.is_available()\n",
    "\n",
    "if is_cuda:\n",
    "    device = torch.device(\"cuda\")\n",
    "    print(\"GPU is available\")\n",
    "else:\n",
    "    device = torch.device(\"cpu\")\n",
    "    print(\"GPU not available, CPU used\")"
   ]
  },
  {
   "cell_type": "code",
   "execution_count": 25,
   "id": "683cfaa6",
   "metadata": {},
   "outputs": [],
   "source": [
    "folder_path = 'dataset/train/reviews'\n",
    "files = os.listdir(folder_path)\n",
    "\n",
    "review = []\n",
    "rating = []\n",
    "\n",
    "\n",
    "for file in files:\n",
    "    if file.endswith('.txt'):  # Only read text files\n",
    "        file_path = os.path.join(folder_path, file)\n",
    "        with open(file_path, 'r') as f:\n",
    "            text = f.read()\n",
    "            review.append(text)\n",
    "            # Extract digits after \"_\" in filename and append to file_ids list\n",
    "            rate = int(file.split(\"_\")[1].split(\".\")[0])\n",
    "            rating.append(rate)\n",
    "\n",
    "\n",
    "df = pd.DataFrame(list(zip(review, rating)), columns=['review', 'rating'])\n",
    "\n",
    "def rating_to_sentiment(rating):\n",
    "    if rating > 5:\n",
    "        return \"positive\"\n",
    "    else:\n",
    "        return \"negative\"\n",
    "    \n",
    "def rating_to_label(rating):\n",
    "    if rating > 5:\n",
    "        return 1\n",
    "    else:\n",
    "        return 0\n",
    "\n",
    "df['sentiment'] = df['rating'].apply(rating_to_sentiment)\n",
    "df['label'] = df['rating'].apply(rating_to_label)"
   ]
  },
  {
   "cell_type": "code",
   "execution_count": 26,
   "id": "87486766",
   "metadata": {},
   "outputs": [
    {
     "data": {
      "text/html": [
       "<div>\n",
       "<style scoped>\n",
       "    .dataframe tbody tr th:only-of-type {\n",
       "        vertical-align: middle;\n",
       "    }\n",
       "\n",
       "    .dataframe tbody tr th {\n",
       "        vertical-align: top;\n",
       "    }\n",
       "\n",
       "    .dataframe thead th {\n",
       "        text-align: right;\n",
       "    }\n",
       "</style>\n",
       "<table border=\"1\" class=\"dataframe\">\n",
       "  <thead>\n",
       "    <tr style=\"text-align: right;\">\n",
       "      <th></th>\n",
       "      <th>review</th>\n",
       "      <th>rating</th>\n",
       "      <th>sentiment</th>\n",
       "      <th>label</th>\n",
       "    </tr>\n",
       "  </thead>\n",
       "  <tbody>\n",
       "    <tr>\n",
       "      <th>0</th>\n",
       "      <td>For a movie that gets no respect there sure ar...</td>\n",
       "      <td>9</td>\n",
       "      <td>positive</td>\n",
       "      <td>1</td>\n",
       "    </tr>\n",
       "    <tr>\n",
       "      <th>1</th>\n",
       "      <td>Bizarre horror movie filled with famous faces ...</td>\n",
       "      <td>8</td>\n",
       "      <td>positive</td>\n",
       "      <td>1</td>\n",
       "    </tr>\n",
       "    <tr>\n",
       "      <th>2</th>\n",
       "      <td>A solid, if unremarkable film. Matthau, as Ein...</td>\n",
       "      <td>7</td>\n",
       "      <td>positive</td>\n",
       "      <td>1</td>\n",
       "    </tr>\n",
       "    <tr>\n",
       "      <th>3</th>\n",
       "      <td>Working with one of the best Shakespeare sourc...</td>\n",
       "      <td>4</td>\n",
       "      <td>negative</td>\n",
       "      <td>0</td>\n",
       "    </tr>\n",
       "    <tr>\n",
       "      <th>4</th>\n",
       "      <td>Well...tremors I, the original started off in ...</td>\n",
       "      <td>1</td>\n",
       "      <td>negative</td>\n",
       "      <td>0</td>\n",
       "    </tr>\n",
       "  </tbody>\n",
       "</table>\n",
       "</div>"
      ],
      "text/plain": [
       "                                              review  rating sentiment  label\n",
       "0  For a movie that gets no respect there sure ar...       9  positive      1\n",
       "1  Bizarre horror movie filled with famous faces ...       8  positive      1\n",
       "2  A solid, if unremarkable film. Matthau, as Ein...       7  positive      1\n",
       "3  Working with one of the best Shakespeare sourc...       4  negative      0\n",
       "4  Well...tremors I, the original started off in ...       1  negative      0"
      ]
     },
     "execution_count": 26,
     "metadata": {},
     "output_type": "execute_result"
    }
   ],
   "source": [
    "df.head()"
   ]
  },
  {
   "cell_type": "code",
   "execution_count": 30,
   "id": "72d7319c",
   "metadata": {
    "execution": {
     "iopub.execute_input": "2022-06-14T14:27:58.105629Z",
     "iopub.status.busy": "2022-06-14T14:27:58.105254Z",
     "iopub.status.idle": "2022-06-14T14:27:58.122507Z",
     "shell.execute_reply": "2022-06-14T14:27:58.121490Z"
    },
    "papermill": {
     "duration": 0.037493,
     "end_time": "2022-06-14T14:27:58.124736",
     "exception": false,
     "start_time": "2022-06-14T14:27:58.087243",
     "status": "completed"
    },
    "tags": []
   },
   "outputs": [
    {
     "data": {
      "text/plain": [
       "positive    12500\n",
       "negative    12500\n",
       "Name: sentiment, dtype: int64"
      ]
     },
     "execution_count": 30,
     "metadata": {},
     "output_type": "execute_result"
    }
   ],
   "source": [
    "# checking for imbalances\n",
    "df.sentiment.value_counts()"
   ]
  },
  {
   "cell_type": "code",
   "execution_count": 31,
   "id": "68f175d6",
   "metadata": {
    "execution": {
     "iopub.execute_input": "2022-06-14T14:27:58.230967Z",
     "iopub.status.busy": "2022-06-14T14:27:58.230050Z",
     "iopub.status.idle": "2022-06-14T14:27:59.037771Z",
     "shell.execute_reply": "2022-06-14T14:27:59.036097Z"
    },
    "papermill": {
     "duration": 0.828874,
     "end_time": "2022-06-14T14:27:59.039998",
     "exception": false,
     "start_time": "2022-06-14T14:27:58.211124",
     "status": "completed"
    },
    "scrolled": true,
    "tags": []
   },
   "outputs": [
    {
     "name": "stderr",
     "output_type": "stream",
     "text": [
      "100%|██████████| 25000/25000 [00:00<00:00, 42569.20it/s]\n"
     ]
    }
   ],
   "source": [
    "#Finding the number of words in the reviews\n",
    "df['token_length'] = df.review.progress_apply(lambda x: len(x.split()))"
   ]
  },
  {
   "cell_type": "code",
   "execution_count": 36,
   "id": "804f171a",
   "metadata": {
    "execution": {
     "iopub.execute_input": "2022-06-14T14:27:59.078008Z",
     "iopub.status.busy": "2022-06-14T14:27:59.076401Z",
     "iopub.status.idle": "2022-06-14T14:27:59.094968Z",
     "shell.execute_reply": "2022-06-14T14:27:59.093669Z"
    },
    "papermill": {
     "duration": 0.039639,
     "end_time": "2022-06-14T14:27:59.097506",
     "exception": false,
     "start_time": "2022-06-14T14:27:59.057867",
     "status": "completed"
    },
    "scrolled": true,
    "tags": []
   },
   "outputs": [
    {
     "data": {
      "text/plain": [
       "count    12500.000000\n",
       "mean       236.706560\n",
       "std        180.485743\n",
       "min         12.000000\n",
       "25%        125.000000\n",
       "50%        174.000000\n",
       "75%        291.000000\n",
       "max       2470.000000\n",
       "Name: token_length, dtype: float64"
      ]
     },
     "execution_count": 36,
     "metadata": {},
     "output_type": "execute_result"
    }
   ],
   "source": [
    "# creating df with just positive reviews\n",
    "df_p = df[df['label'] == 1]\n",
    "df_p['token_length'].describe()"
   ]
  },
  {
   "cell_type": "code",
   "execution_count": 37,
   "id": "996e1d53",
   "metadata": {
    "execution": {
     "iopub.execute_input": "2022-06-14T14:27:59.172213Z",
     "iopub.status.busy": "2022-06-14T14:27:59.170542Z",
     "iopub.status.idle": "2022-06-14T14:27:59.185782Z",
     "shell.execute_reply": "2022-06-14T14:27:59.184567Z"
    },
    "papermill": {
     "duration": 0.036462,
     "end_time": "2022-06-14T14:27:59.188076",
     "exception": false,
     "start_time": "2022-06-14T14:27:59.151614",
     "status": "completed"
    },
    "tags": []
   },
   "outputs": [
    {
     "data": {
      "text/plain": [
       "count    12500.000000\n",
       "mean       230.867840\n",
       "std        166.663126\n",
       "min         10.000000\n",
       "25%        128.000000\n",
       "50%        174.000000\n",
       "75%        278.000000\n",
       "max       1522.000000\n",
       "Name: token_length, dtype: float64"
      ]
     },
     "execution_count": 37,
     "metadata": {},
     "output_type": "execute_result"
    }
   ],
   "source": [
    "# creating df with just positive reviews\n",
    "df_n = df[df['label'] == 0]\n",
    "df_n['token_length'].describe()"
   ]
  },
  {
   "cell_type": "code",
   "execution_count": 39,
   "id": "f31dc993",
   "metadata": {
    "execution": {
     "iopub.execute_input": "2022-06-14T14:27:59.298397Z",
     "iopub.status.busy": "2022-06-14T14:27:59.296653Z",
     "iopub.status.idle": "2022-06-14T14:28:00.176378Z",
     "shell.execute_reply": "2022-06-14T14:28:00.175370Z"
    },
    "papermill": {
     "duration": 0.900759,
     "end_time": "2022-06-14T14:28:00.178538",
     "exception": false,
     "start_time": "2022-06-14T14:27:59.277779",
     "status": "completed"
    },
    "tags": []
   },
   "outputs": [
    {
     "data": {
      "text/plain": [
       "<Figure size 576x576 with 0 Axes>"
      ]
     },
     "metadata": {},
     "output_type": "display_data"
    },
    {
     "data": {
      "image/png": "[encoded data removed]",
      "text/plain": [
       "<Figure size 360x360 with 1 Axes>"
      ]
     },
     "metadata": {
      "needs_background": "light"
     },
     "output_type": "display_data"
    }
   ],
   "source": [
    "plt.figure(figsize=(8, 8))\n",
    "sns.displot(df_p, x='token_length')\n",
    "plt.title('Token Length Distribution - Positive Reviews')\n",
    "plt.xlabel('Token Length')\n",
    "plt.ylabel('Count')\n",
    "plt.show()"
   ]
  },
  {
   "cell_type": "code",
   "execution_count": 40,
   "id": "b9822af2",
   "metadata": {
    "execution": {
     "iopub.execute_input": "2022-06-14T14:28:00.218559Z",
     "iopub.status.busy": "2022-06-14T14:28:00.218135Z",
     "iopub.status.idle": "2022-06-14T14:28:01.054632Z",
     "shell.execute_reply": "2022-06-14T14:28:01.053601Z"
    },
    "papermill": {
     "duration": 0.85864,
     "end_time": "2022-06-14T14:28:01.056886",
     "exception": false,
     "start_time": "2022-06-14T14:28:00.198246",
     "status": "completed"
    },
    "tags": []
   },
   "outputs": [
    {
     "data": {
      "text/plain": [
       "<Figure size 576x576 with 0 Axes>"
      ]
     },
     "metadata": {},
     "output_type": "display_data"
    },
    {
     "data": {
      "image/png": "[encoded data removed]",
      "text/plain": [
       "<Figure size 360x360 with 1 Axes>"
      ]
     },
     "metadata": {
      "needs_background": "light"
     },
     "output_type": "display_data"
    }
   ],
   "source": [
    "plt.figure(figsize=(8, 8))\n",
    "sns.displot(df_n, x='token_length')\n",
    "plt.title('Token Length Distribution - Negative Reviews')\n",
    "plt.xlabel('Token Length')\n",
    "plt.ylabel('Count')\n",
    "plt.show()"
   ]
  },
  {
   "cell_type": "code",
   "execution_count": 59,
   "id": "21bd3ef9",
   "metadata": {
    "execution": {
     "iopub.execute_input": "2022-06-14T14:28:01.134813Z",
     "iopub.status.busy": "2022-06-14T14:28:01.133796Z",
     "iopub.status.idle": "2022-06-14T14:28:01.143725Z",
     "shell.execute_reply": "2022-06-14T14:28:01.142723Z"
    },
    "papermill": {
     "duration": 0.03255,
     "end_time": "2022-06-14T14:28:01.146397",
     "exception": false,
     "start_time": "2022-06-14T14:28:01.113847",
     "status": "completed"
    },
    "tags": []
   },
   "outputs": [
    {
     "name": "stdout",
     "output_type": "stream",
     "text": [
      "Positive\n",
      "Adrian Pasdar is excellent is this film. He makes a fascinating woman.\n",
      "\n",
      "Negative\n",
      "I wouldn't rent this one even on dollar rental night.\n"
     ]
    }
   ],
   "source": [
    "# exploring some reviews\n",
    "print('Positive')\n",
    "print(df_p.loc[df_p['token_length'].idxmin(), 'review'])\n",
    "print()\n",
    "print('Negative')\n",
    "print(df_n.loc[df_n['token_length'].idxmin(), 'review'])"
   ]
  },
  {
   "cell_type": "markdown",
   "id": "2e5ac836",
   "metadata": {
    "papermill": {
     "duration": 0.018236,
     "end_time": "2022-06-14T14:28:01.183405",
     "exception": false,
     "start_time": "2022-06-14T14:28:01.165169",
     "status": "completed"
    },
    "tags": []
   },
   "source": [
    "### Cleaning"
   ]
  },
  {
   "cell_type": "code",
   "execution_count": 60,
   "id": "3d55940e",
   "metadata": {
    "execution": {
     "iopub.execute_input": "2022-06-14T14:28:01.260221Z",
     "iopub.status.busy": "2022-06-14T14:28:01.259248Z",
     "iopub.status.idle": "2022-06-14T14:28:01.272877Z",
     "shell.execute_reply": "2022-06-14T14:28:01.271890Z"
    },
    "papermill": {
     "duration": 0.035881,
     "end_time": "2022-06-14T14:28:01.275314",
     "exception": false,
     "start_time": "2022-06-14T14:28:01.239433",
     "status": "completed"
    },
    "tags": []
   },
   "outputs": [],
   "source": [
    "# text cleaning\n",
    "def rm_link(text):\n",
    "    return re.sub(r'https?://\\S+|www\\.\\S+', '', text)\n",
    "\n",
    "# handle case like \"shut up okay?Im only 10 years old\"\n",
    "# become \"shut up okay Im only 10 years old\"\n",
    "def rm_punct2(text):\n",
    "    # return re.sub(r'[\\!\\\"\\#\\$\\%\\&\\'\\(\\)\\*\\+\\,\\-\\.\\/\\:\\;\\<\\=\\>\\?\\@\\[\\\\\\]\\^\\_\\`\\{\\|\\}\\~]', ' ', text)\n",
    "    return re.sub(r'[\\\"\\#\\$\\%\\&\\'\\(\\)\\*\\+\\/\\:\\;\\<\\=\\>\\@\\[\\\\\\]\\^\\_\\`\\{\\|\\}\\~]', ' ', text)\n",
    "\n",
    "def rm_html(text):\n",
    "    return re.sub(r'<[^>]+>', '', text)\n",
    "\n",
    "def space_bt_punct(text):\n",
    "    pattern = r'([.,!?-])'\n",
    "    s = re.sub(pattern, r' \\1 ', text)     # add whitespaces between punctuation\n",
    "    s = re.sub(r'\\s{2,}', ' ', s)        # remove double whitespaces    \n",
    "    return s\n",
    "\n",
    "def rm_number(text):\n",
    "    return re.sub(r'\\d+', '', text)\n",
    "\n",
    "def rm_whitespaces(text):\n",
    "    return re.sub(r' +', ' ', text)\n",
    "\n",
    "def rm_nonascii(text):\n",
    "    return re.sub(r'[^\\x00-\\x7f]', r'', text)\n",
    "\n",
    "def rm_emoji(text):\n",
    "    emojis = re.compile(\n",
    "        '['\n",
    "        u'\\U0001F600-\\U0001F64F'  # emoticons\n",
    "        u'\\U0001F300-\\U0001F5FF'  # symbols & pictographs\n",
    "        u'\\U0001F680-\\U0001F6FF'  # transport & map symbols\n",
    "        u'\\U0001F1E0-\\U0001F1FF'  # flags (iOS)\n",
    "        u'\\U00002702-\\U000027B0'\n",
    "        u'\\U000024C2-\\U0001F251'\n",
    "        ']+',\n",
    "        flags=re.UNICODE\n",
    "    )\n",
    "    return emojis.sub(r'', text)\n",
    "\n",
    "def spell_correction(text):\n",
    "    return re.sub(r'(.)\\1+', r'\\1\\1', text)\n",
    "\n",
    "def clean_pipeline(text):    \n",
    "    no_link = rm_link(text)\n",
    "    no_html = rm_html(no_link)\n",
    "    space_punct = space_bt_punct(no_html)\n",
    "    no_punct = rm_punct2(space_punct)\n",
    "    no_number = rm_number(no_punct)\n",
    "    no_whitespaces = rm_whitespaces(no_number)\n",
    "    no_nonasci = rm_nonascii(no_whitespaces)\n",
    "    no_emoji = rm_emoji(no_nonasci)\n",
    "    spell_corrected = spell_correction(no_emoji)\n",
    "    return spell_corrected"
   ]
  },
  {
   "cell_type": "code",
   "execution_count": 61,
   "id": "a599ddd3",
   "metadata": {
    "execution": {
     "iopub.execute_input": "2022-06-14T14:28:01.353350Z",
     "iopub.status.busy": "2022-06-14T14:28:01.352271Z",
     "iopub.status.idle": "2022-06-14T14:28:01.360518Z",
     "shell.execute_reply": "2022-06-14T14:28:01.359444Z"
    },
    "papermill": {
     "duration": 0.031115,
     "end_time": "2022-06-14T14:28:01.362692",
     "exception": false,
     "start_time": "2022-06-14T14:28:01.331577",
     "status": "completed"
    },
    "tags": []
   },
   "outputs": [],
   "source": [
    "# preprocessing\n",
    "def tokenize(text):\n",
    "    return word_tokenize(text)\n",
    "\n",
    "def rm_stopwords(text):\n",
    "    return [i for i in text if i not in stopwords]\n",
    "\n",
    "def lemmatize(text):\n",
    "    lemmatizer = WordNetLemmatizer()    \n",
    "    lemmas = [lemmatizer.lemmatize(t) for t in text]\n",
    "    # make sure lemmas does not contains sotpwords\n",
    "    return rm_stopwords(lemmas)\n",
    "\n",
    "def preprocess_pipeline(text):\n",
    "    tokens = tokenize(text)\n",
    "    no_stopwords = rm_stopwords(tokens)\n",
    "    lemmas = lemmatize(no_stopwords)\n",
    "    return ' '.join(lemmas)"
   ]
  },
  {
   "cell_type": "code",
   "execution_count": 62,
   "id": "1c762035",
   "metadata": {
    "execution": {
     "iopub.execute_input": "2022-06-14T14:28:01.402042Z",
     "iopub.status.busy": "2022-06-14T14:28:01.401686Z",
     "iopub.status.idle": "2022-06-14T14:31:59.846936Z",
     "shell.execute_reply": "2022-06-14T14:31:59.845836Z"
    },
    "papermill": {
     "duration": 238.469845,
     "end_time": "2022-06-14T14:31:59.851564",
     "exception": false,
     "start_time": "2022-06-14T14:28:01.381719",
     "status": "completed"
    },
    "tags": []
   },
   "outputs": [
    {
     "name": "stderr",
     "output_type": "stream",
     "text": [
      "100%|██████████| 25000/25000 [00:15<00:00, 1612.45it/s]\n",
      "100%|██████████| 25000/25000 [01:59<00:00, 209.92it/s]\n"
     ]
    },
    {
     "data": {
      "text/html": [
       "<div>\n",
       "<style scoped>\n",
       "    .dataframe tbody tr th:only-of-type {\n",
       "        vertical-align: middle;\n",
       "    }\n",
       "\n",
       "    .dataframe tbody tr th {\n",
       "        vertical-align: top;\n",
       "    }\n",
       "\n",
       "    .dataframe thead th {\n",
       "        text-align: right;\n",
       "    }\n",
       "</style>\n",
       "<table border=\"1\" class=\"dataframe\">\n",
       "  <thead>\n",
       "    <tr style=\"text-align: right;\">\n",
       "      <th></th>\n",
       "      <th>review</th>\n",
       "      <th>rating</th>\n",
       "      <th>sentiment</th>\n",
       "      <th>label</th>\n",
       "      <th>token_length</th>\n",
       "      <th>clean</th>\n",
       "      <th>processed</th>\n",
       "    </tr>\n",
       "  </thead>\n",
       "  <tbody>\n",
       "    <tr>\n",
       "      <th>0</th>\n",
       "      <td>For a movie that gets no respect there sure ar...</td>\n",
       "      <td>9</td>\n",
       "      <td>positive</td>\n",
       "      <td>1</td>\n",
       "      <td>52</td>\n",
       "      <td>For a movie that gets no respect there sure ar...</td>\n",
       "      <td>For movie get respect sure lot memorable quote...</td>\n",
       "    </tr>\n",
       "    <tr>\n",
       "      <th>1</th>\n",
       "      <td>Bizarre horror movie filled with famous faces ...</td>\n",
       "      <td>8</td>\n",
       "      <td>positive</td>\n",
       "      <td>1</td>\n",
       "      <td>166</td>\n",
       "      <td>Bizarre horror movie filled with famous faces ...</td>\n",
       "      <td>Bizarre horror movie filled famous face stolen...</td>\n",
       "    </tr>\n",
       "    <tr>\n",
       "      <th>2</th>\n",
       "      <td>A solid, if unremarkable film. Matthau, as Ein...</td>\n",
       "      <td>7</td>\n",
       "      <td>positive</td>\n",
       "      <td>1</td>\n",
       "      <td>55</td>\n",
       "      <td>A solid , if unremarkable film . Matthau , as ...</td>\n",
       "      <td>A solid , unremarkable film . Matthau , Einste...</td>\n",
       "    </tr>\n",
       "    <tr>\n",
       "      <th>3</th>\n",
       "      <td>Working with one of the best Shakespeare sourc...</td>\n",
       "      <td>4</td>\n",
       "      <td>negative</td>\n",
       "      <td>0</td>\n",
       "      <td>41</td>\n",
       "      <td>Working with one of the best Shakespeare sourc...</td>\n",
       "      <td>Working one best Shakespeare source , film man...</td>\n",
       "    </tr>\n",
       "    <tr>\n",
       "      <th>4</th>\n",
       "      <td>Well...tremors I, the original started off in ...</td>\n",
       "      <td>1</td>\n",
       "      <td>negative</td>\n",
       "      <td>0</td>\n",
       "      <td>188</td>\n",
       "      <td>Well . . . tremors I , the original started of...</td>\n",
       "      <td>Well . . . tremor I , original started found m...</td>\n",
       "    </tr>\n",
       "  </tbody>\n",
       "</table>\n",
       "</div>"
      ],
      "text/plain": [
       "                                              review  rating sentiment  label  \\\n",
       "0  For a movie that gets no respect there sure ar...       9  positive      1   \n",
       "1  Bizarre horror movie filled with famous faces ...       8  positive      1   \n",
       "2  A solid, if unremarkable film. Matthau, as Ein...       7  positive      1   \n",
       "3  Working with one of the best Shakespeare sourc...       4  negative      0   \n",
       "4  Well...tremors I, the original started off in ...       1  negative      0   \n",
       "\n",
       "   token_length                                              clean  \\\n",
       "0            52  For a movie that gets no respect there sure ar...   \n",
       "1           166  Bizarre horror movie filled with famous faces ...   \n",
       "2            55  A solid , if unremarkable film . Matthau , as ...   \n",
       "3            41  Working with one of the best Shakespeare sourc...   \n",
       "4           188  Well . . . tremors I , the original started of...   \n",
       "\n",
       "                                           processed  \n",
       "0  For movie get respect sure lot memorable quote...  \n",
       "1  Bizarre horror movie filled famous face stolen...  \n",
       "2  A solid , unremarkable film . Matthau , Einste...  \n",
       "3  Working one best Shakespeare source , film man...  \n",
       "4  Well . . . tremor I , original started found m...  "
      ]
     },
     "execution_count": 62,
     "metadata": {},
     "output_type": "execute_result"
    }
   ],
   "source": [
    "df['clean'] = df['review'].progress_apply(clean_pipeline)\n",
    "df['processed'] = df['clean'].progress_apply(preprocess_pipeline)\n",
    "df.head()"
   ]
  },
  {
   "cell_type": "markdown",
   "id": "e6df4796",
   "metadata": {
    "papermill": {
     "duration": 0.170676,
     "end_time": "2022-06-14T14:32:00.189129",
     "exception": false,
     "start_time": "2022-06-14T14:32:00.018453",
     "status": "completed"
    },
    "tags": []
   },
   "source": [
    "Finally, after doing data preprocessing, we save our processed dataset into a new csv file for further usage."
   ]
  },
  {
   "cell_type": "code",
   "execution_count": 74,
   "id": "05da668f",
   "metadata": {
    "execution": {
     "iopub.execute_input": "2022-06-14T14:32:00.525421Z",
     "iopub.status.busy": "2022-06-14T14:32:00.524978Z",
     "iopub.status.idle": "2022-06-14T14:32:02.054121Z",
     "shell.execute_reply": "2022-06-14T14:32:02.052974Z"
    },
    "papermill": {
     "duration": 1.700702,
     "end_time": "2022-06-14T14:32:02.056874",
     "exception": false,
     "start_time": "2022-06-14T14:32:00.356172",
     "status": "completed"
    },
    "tags": []
   },
   "outputs": [],
   "source": [
    "# keep only processed, label and rating columns\n",
    "df[['processed', 'label', 'rating']].to_csv('./imdb_processed.csv', index=False, header=True)"
   ]
  },
  {
   "cell_type": "markdown",
   "id": "4d1106fb",
   "metadata": {
    "papermill": {
     "duration": 0.222659,
     "end_time": "2022-06-14T14:32:02.452811",
     "exception": false,
     "start_time": "2022-06-14T14:32:02.230152",
     "status": "completed"
    },
    "tags": []
   },
   "source": [
    "## Prepare Dataset"
   ]
  },
  {
   "cell_type": "code",
   "execution_count": 197,
   "id": "50c197b3",
   "metadata": {
    "execution": {
     "iopub.execute_input": "2022-06-14T14:32:02.787480Z",
     "iopub.status.busy": "2022-06-14T14:32:02.787080Z",
     "iopub.status.idle": "2022-06-14T14:32:03.148810Z",
     "shell.execute_reply": "2022-06-14T14:32:03.147668Z"
    },
    "papermill": {
     "duration": 0.533189,
     "end_time": "2022-06-14T14:32:03.151506",
     "exception": false,
     "start_time": "2022-06-14T14:32:02.618317",
     "status": "completed"
    },
    "tags": []
   },
   "outputs": [
    {
     "name": "stdout",
     "output_type": "stream",
     "text": [
      "For movie get respect sure lot memorable quote listed gem . Imagine movie Joe Piscopo actually funny ! Maureen Stapleton scene stealer . The Moroni character absolute scream . Watch Alan The Skipper Hale jr . police Sgt .\n",
      "Label: 1\n",
      "Rating: 9\n",
      "\n",
      "\n",
      "Bizarre horror movie filled famous face stolen Cristina Raines later TV Flamingo Road pretty somewhat unstable model gummy smile slated pay attempted suicide guarding Gateway Hell ! The scene Raines modeling well captured , mood music perfect , Deborah Raffin charming Cristina pal , Raines move creepy Brooklyn Heights brownstone inhabited blind priest top floor , thing really start cooking . The neighbor , including fantastically wicked Burgess Meredith kinky couple Sylvia Miles Beverly D Angelo , diabolical lot , Eli Wallach great fun wily police detective . The movie nearly cross - pollination Rosemary Baby The Exorcist - - combination ! Based best - seller Jeffrey Konvitz , The Sentinel entertainingly spooky , full shock brought well director Michael Winner , mount thoughtfully downbeat ending skill .\n",
      "Label: 1\n",
      "Rating: 8\n",
      "\n",
      "\n"
     ]
    }
   ],
   "source": [
    "# read processed data\n",
    "data = pd.read_csv('./imdb_processed.csv')\n",
    "\n",
    "for row in data[:2].iterrows():\n",
    "    print(row[1]['processed'])\n",
    "    print(f'Label: {row[1][\"label\"]}')   \n",
    "    print(f'Rating: {row[1][\"rating\"]}')   \n",
    "    print('\\n')"
   ]
  },
  {
   "cell_type": "code",
   "execution_count": 76,
   "id": "0b750442",
   "metadata": {
    "execution": {
     "iopub.execute_input": "2022-06-14T14:32:03.829752Z",
     "iopub.status.busy": "2022-06-14T14:32:03.829347Z",
     "iopub.status.idle": "2022-06-14T14:32:04.689803Z",
     "shell.execute_reply": "2022-06-14T14:32:04.688712Z"
    },
    "papermill": {
     "duration": 1.034219,
     "end_time": "2022-06-14T14:32:04.692011",
     "exception": false,
     "start_time": "2022-06-14T14:32:03.657792",
     "status": "completed"
    },
    "tags": []
   },
   "outputs": [
    {
     "data": {
      "text/plain": [
       "['For',\n",
       " 'movie',\n",
       " 'get',\n",
       " 'respect',\n",
       " 'sure',\n",
       " 'lot',\n",
       " 'memorable',\n",
       " 'quote',\n",
       " 'listed',\n",
       " 'gem']"
      ]
     },
     "execution_count": 76,
     "metadata": {},
     "output_type": "execute_result"
    }
   ],
   "source": [
    "# get all processed reviews\n",
    "reviews = data.processed.values\n",
    "# merge into single variable, separated by whitespaces\n",
    "words = ' '.join(reviews)\n",
    "# obtain list of words\n",
    "words = words.split()\n",
    "\n",
    "# check our list\n",
    "words[:10]"
   ]
  },
  {
   "cell_type": "code",
   "execution_count": 77,
   "id": "d6abe980",
   "metadata": {
    "execution": {
     "iopub.execute_input": "2022-06-14T14:32:05.373237Z",
     "iopub.status.busy": "2022-06-14T14:32:05.372781Z",
     "iopub.status.idle": "2022-06-14T14:32:06.726551Z",
     "shell.execute_reply": "2022-06-14T14:32:06.725418Z"
    },
    "papermill": {
     "duration": 1.523344,
     "end_time": "2022-06-14T14:32:06.728927",
     "exception": false,
     "start_time": "2022-06-14T14:32:05.205583",
     "status": "completed"
    },
    "tags": []
   },
   "outputs": [],
   "source": [
    "# build vocabulary\n",
    "counter = Counter(words)\n",
    "vocab = sorted(counter, key=counter.get, reverse=True)\n",
    "int2word = dict(enumerate(vocab, 1))\n",
    "int2word[0] = '<PAD>'\n",
    "word2int = {word: id for id, word in int2word.items()}"
   ]
  },
  {
   "cell_type": "code",
   "execution_count": 78,
   "id": "2277f444",
   "metadata": {
    "execution": {
     "iopub.execute_input": "2022-06-14T14:32:07.423045Z",
     "iopub.status.busy": "2022-06-14T14:32:07.422617Z",
     "iopub.status.idle": "2022-06-14T14:32:09.659007Z",
     "shell.execute_reply": "2022-06-14T14:32:09.656750Z"
    },
    "papermill": {
     "duration": 2.40809,
     "end_time": "2022-06-14T14:32:09.661865",
     "exception": false,
     "start_time": "2022-06-14T14:32:07.253775",
     "status": "completed"
    },
    "tags": []
   },
   "outputs": [
    {
     "name": "stderr",
     "output_type": "stream",
     "text": [
      "100%|██████████| 25000/25000 [00:02<00:00, 10240.08it/s]"
     ]
    },
    {
     "name": "stdout",
     "output_type": "stream",
     "text": [
      "[220, 5, 19, 933, 197]\n",
      "[21716, 110, 5, 959, 681]\n",
      "[47, 1049, 2, 9908, 6]\n",
      "[14203, 8, 60, 1668, 1864]\n",
      "[318, 1, 1, 1, 20440]\n"
     ]
    },
    {
     "name": "stderr",
     "output_type": "stream",
     "text": [
      "\n"
     ]
    }
   ],
   "source": [
    "# encode words\n",
    "reviews_enc = [[word2int[word] for word in review.split()] for review in tqdm(reviews)]\n",
    "\n",
    "# print first-10 words of first 5 reviews\n",
    "for i in range(5):\n",
    "    print(reviews_enc[i][:5])"
   ]
  },
  {
   "cell_type": "code",
   "execution_count": 79,
   "id": "7532a6fd",
   "metadata": {
    "execution": {
     "iopub.execute_input": "2022-06-14T14:32:10.362782Z",
     "iopub.status.busy": "2022-06-14T14:32:10.362114Z",
     "iopub.status.idle": "2022-06-14T14:32:11.451947Z",
     "shell.execute_reply": "2022-06-14T14:32:11.450695Z"
    },
    "papermill": {
     "duration": 1.268243,
     "end_time": "2022-06-14T14:32:11.454886",
     "exception": false,
     "start_time": "2022-06-14T14:32:10.186643",
     "status": "completed"
    },
    "tags": []
   },
   "outputs": [
    {
     "data": {
      "text/plain": [
       "array([[  220,     5,    19,   933,   197,    77,   774,  2089,  3400,\n",
       "         1207],\n",
       "       [21716,   110,     5,   959,   681,   247,  2475,  9081,  4991,\n",
       "          234],\n",
       "       [   47,  1049,     2,  9908,     6,     1,  2876,     2,  5839,\n",
       "            2],\n",
       "       [14203,     8,    60,  1668,  1864,     2,     6,   872, 19319,\n",
       "         1864],\n",
       "       [  318,     1,     1,     1, 20440,     3,     2,   112,   522,\n",
       "          170],\n",
       "       [19320,     9,    14,     8,   114,  1239,   740,     1,    11,\n",
       "          911],\n",
       "       [   11,   608,   325,   740,   518,   517,  7741,   609, 20441,\n",
       "          151],\n",
       "       [    3,    46,  2025,     5,    37,     2,     8,   126,   708,\n",
       "          177],\n",
       "       [19323,  1019,  3561,    51,    86,    51,  4532,  2475, 17465,\n",
       "          272],\n",
       "       [  118,   161,   374,    41,     2,  5593,   178,    57,  3023,\n",
       "         2288]])"
      ]
     },
     "execution_count": 79,
     "metadata": {},
     "output_type": "execute_result"
    }
   ],
   "source": [
    "# padding sequences\n",
    "def pad_features(reviews, pad_id, seq_length=128):\n",
    "    # features = np.zeros((len(reviews), seq_length), dtype=int)\n",
    "    features = np.full((len(reviews), seq_length), pad_id, dtype=int)\n",
    "\n",
    "    for i, row in enumerate(reviews):\n",
    "        # if seq_length < len(row) then review will be trimmed\n",
    "        features[i, :len(row)] = np.array(row)[:seq_length]\n",
    "\n",
    "    return features\n",
    "\n",
    "seq_length = 256\n",
    "features = pad_features(reviews_enc, pad_id=word2int['<PAD>'], seq_length=seq_length)\n",
    "\n",
    "assert len(features) == len(reviews_enc)\n",
    "assert len(features[0]) == seq_length\n",
    "\n",
    "features[:10, :10]"
   ]
  },
  {
   "cell_type": "code",
   "execution_count": 82,
   "id": "8dd4f14a",
   "metadata": {
    "execution": {
     "iopub.execute_input": "2022-06-14T14:32:11.832856Z",
     "iopub.status.busy": "2022-06-14T14:32:11.832400Z",
     "iopub.status.idle": "2022-06-14T14:32:11.840501Z",
     "shell.execute_reply": "2022-06-14T14:32:11.839319Z"
    },
    "papermill": {
     "duration": 0.180929,
     "end_time": "2022-06-14T14:32:11.842794",
     "exception": false,
     "start_time": "2022-06-14T14:32:11.661865",
     "status": "completed"
    },
    "tags": []
   },
   "outputs": [
    {
     "data": {
      "text/plain": [
       "array([9, 8, 7, ..., 1, 3, 3])"
      ]
     },
     "execution_count": 82,
     "metadata": {},
     "output_type": "execute_result"
    }
   ],
   "source": [
    "# get ratings as numpy\n",
    "ratings = data.rating.to_numpy()\n",
    "ratings"
   ]
  },
  {
   "cell_type": "markdown",
   "id": "5220f053",
   "metadata": {
    "papermill": {
     "duration": 0.169741,
     "end_time": "2022-06-14T14:32:12.185666",
     "exception": false,
     "start_time": "2022-06-14T14:32:12.015925",
     "status": "completed"
    },
    "tags": []
   },
   "source": [
    "### Train, validation and test split"
   ]
  },
  {
   "cell_type": "code",
   "execution_count": 142,
   "id": "508e3e4e",
   "metadata": {
    "execution": {
     "iopub.execute_input": "2022-06-14T14:32:12.526767Z",
     "iopub.status.busy": "2022-06-14T14:32:12.526379Z",
     "iopub.status.idle": "2022-06-14T14:32:12.535431Z",
     "shell.execute_reply": "2022-06-14T14:32:12.534355Z"
    },
    "papermill": {
     "duration": 0.184846,
     "end_time": "2022-06-14T14:32:12.539062",
     "exception": false,
     "start_time": "2022-06-14T14:32:12.354216",
     "status": "completed"
    },
    "tags": []
   },
   "outputs": [
    {
     "name": "stdout",
     "output_type": "stream",
     "text": [
      "Feature Shapes:\n",
      "===============\n",
      "Train set: (17500, 256)\n",
      "Validation set: (3750, 256)\n",
      "Test set: (3750, 256)\n"
     ]
    }
   ],
   "source": [
    "# train test split\n",
    "train_size = .7   \n",
    "val_size = .5   \n",
    "\n",
    "split_id = int(len(features) * train_size)\n",
    "train_x, remain_x = features[:split_id], features[split_id:]\n",
    "train_y, remain_y = ratings[:split_id], ratings[split_id:]\n",
    "\n",
    "split_val_id = int(len(remain_x) * val_size)\n",
    "val_x, test_x = remain_x[:split_val_id], remain_x[split_val_id:]\n",
    "val_y, test_y = remain_y[:split_val_id], remain_y[split_val_id:]\n",
    "\n",
    "print('Feature Shapes:')\n",
    "print('===============')\n",
    "print('Train set: {}'.format(train_x.shape))\n",
    "print('Validation set: {}'.format(val_x.shape))\n",
    "print('Test set: {}'.format(test_x.shape))"
   ]
  },
  {
   "cell_type": "code",
   "execution_count": 178,
   "id": "cddbce9b",
   "metadata": {
    "execution": {
     "iopub.execute_input": "2022-06-14T14:32:13.582907Z",
     "iopub.status.busy": "2022-06-14T14:32:13.582517Z",
     "iopub.status.idle": "2022-06-14T14:32:13.590921Z",
     "shell.execute_reply": "2022-06-14T14:32:13.589839Z"
    },
    "papermill": {
     "duration": 0.184421,
     "end_time": "2022-06-14T14:32:13.593045",
     "exception": false,
     "start_time": "2022-06-14T14:32:13.408624",
     "status": "completed"
    },
    "tags": []
   },
   "outputs": [],
   "source": [
    "batch_size = 128\n",
    "\n",
    "trainset = TensorDataset(torch.from_numpy(train_x), torch.from_numpy(train_y-1))\n",
    "validset = TensorDataset(torch.from_numpy(val_x), torch.from_numpy(val_y-1))\n",
    "testset = TensorDataset(torch.from_numpy(test_x), torch.from_numpy(test_y-1))\n",
    "trainloader = DataLoader(trainset, shuffle=True, batch_size=batch_size)\n",
    "valloader = DataLoader(validset, shuffle=True, batch_size=batch_size)\n",
    "testloader = DataLoader(testset, shuffle=True, batch_size=batch_size)"
   ]
  },
  {
   "cell_type": "code",
   "execution_count": 198,
   "id": "7fe82814",
   "metadata": {},
   "outputs": [
    {
     "name": "stdout",
     "output_type": "stream",
     "text": [
      "Sample batch size:  torch.Size([128, 256])\n",
      "Sample batch input: \n",
      " tensor([[   14,    13,   399,  ...,     0,     0,     0],\n",
      "        [    3,    19,  7940,  ...,     0,     0,     0],\n",
      "        [   14,   255,   177,  ...,     0,     0,     0],\n",
      "        ...,\n",
      "        [   14,     5,  3074,  ...,     0,     0,     0],\n",
      "        [   42,     3,  2562,  ...,   208,   141,     2],\n",
      "        [  838,  5168, 14592,  ...,     0,     0,     0]])\n",
      "\n",
      "Sample rating size:  torch.Size([128])\n",
      "Sample rating input: \n",
      " tensor([1, 3, 0, 2, 0, 9, 3, 3, 2, 8, 9, 6, 9, 7, 7, 8, 6, 6, 3, 1, 0, 0, 2, 7,\n",
      "        7, 0, 0, 3, 2, 3, 3, 3, 8, 9, 0, 3, 9, 9, 0, 0, 0, 0, 7, 1, 9, 6, 0, 1,\n",
      "        1, 8, 3, 2, 3, 8, 3, 9, 0, 7, 6, 1, 7, 0, 7, 0, 9, 9, 0, 0, 9, 6, 9, 2,\n",
      "        9, 6, 7, 0, 8, 3, 1, 6, 7, 1, 6, 3, 2, 9, 2, 8, 7, 9, 0, 3, 0, 0, 8, 0,\n",
      "        0, 7, 1, 9, 9, 0, 7, 0, 7, 7, 0, 7, 9, 2, 1, 9, 7, 6, 7, 3, 2, 0, 1, 9,\n",
      "        2, 2, 9, 1, 7, 0, 0, 3])\n"
     ]
    }
   ],
   "source": [
    "# checking batches\n",
    "dataiter = iter(trainloader)\n",
    "x, y = next(dataiter)\n",
    "\n",
    "print('Sample batch size: ', x.size())   # batch_size, seq_length\n",
    "print('Sample batch input: \\n', x)\n",
    "print()\n",
    "print('Sample rating size: ', y.size())   # batch_size\n",
    "print('Sample rating input: \\n', y)"
   ]
  },
  {
   "cell_type": "markdown",
   "id": "ff32703b",
   "metadata": {
    "papermill": {
     "duration": 0.174408,
     "end_time": "2022-06-14T14:32:14.706798",
     "exception": false,
     "start_time": "2022-06-14T14:32:14.532390",
     "status": "completed"
    },
    "tags": []
   },
   "source": [
    "### Modelling\n",
    "\n",
    "Using LSTM (Long Short-Term Memory) as the model"
   ]
  },
  {
   "cell_type": "code",
   "execution_count": 193,
   "id": "a1318e91",
   "metadata": {},
   "outputs": [],
   "source": [
    "class MovieRatingModel(nn.Module):\n",
    "    def __init__(self, vocab_size, output_size, hidden_size=128, embedding_size=400, n_layers=2, dropout=0.2):\n",
    "        super(MovieRatingModel, self).__init__()\n",
    "\n",
    "        # embedding layer is useful to map input into vector representation\n",
    "        self.embedding = nn.Embedding(vocab_size, embedding_size)\n",
    "\n",
    "        # LSTM layer preserved by PyTorch library\n",
    "        self.lstm = nn.LSTM(embedding_size, hidden_size, n_layers, dropout=dropout, batch_first=True)\n",
    "\n",
    "        # dropout layer\n",
    "        self.dropout = nn.Dropout(0.3)\n",
    "\n",
    "        # Linear layer for output\n",
    "        self.fc = nn.Linear(hidden_size, output_size)\n",
    "\n",
    "        # Softmax layer for multiclass classification\n",
    "        self.softmax = nn.Softmax(dim=1)\n",
    "\n",
    "    def forward(self, x):\n",
    "        \n",
    "        # convert feature to long\n",
    "        x = x.long()\n",
    "\n",
    "        # map input to vector\n",
    "        x = self.embedding(x)\n",
    "\n",
    "        # pass forward to lstm\n",
    "        o, _ =  self.lstm(x)\n",
    "\n",
    "        # get last sequence output\n",
    "        o = o[:, -1, :]\n",
    "\n",
    "        # apply dropout and fully connected layer\n",
    "        o = self.dropout(o)\n",
    "        o = self.fc(o)\n",
    "\n",
    "        # apply softmax for multiclass classification\n",
    "        o = self.softmax(o)\n",
    "\n",
    "        return o"
   ]
  },
  {
   "cell_type": "code",
   "execution_count": 175,
   "id": "3adfa899",
   "metadata": {
    "execution": {
     "iopub.execute_input": "2022-06-14T14:32:18.612682Z",
     "iopub.status.busy": "2022-06-14T14:32:18.612245Z",
     "iopub.status.idle": "2022-06-14T14:32:18.942739Z",
     "shell.execute_reply": "2022-06-14T14:32:18.939581Z"
    },
    "papermill": {
     "duration": 0.504422,
     "end_time": "2022-06-14T14:32:18.946952",
     "exception": false,
     "start_time": "2022-06-14T14:32:18.442530",
     "status": "completed"
    },
    "tags": []
   },
   "outputs": [
    {
     "name": "stdout",
     "output_type": "stream",
     "text": [
      "MovieRatingModel(\n",
      "  (embedding): Embedding(86499, 256)\n",
      "  (lstm): LSTM(256, 512, num_layers=2, batch_first=True, dropout=0.25)\n",
      "  (dropout): Dropout(p=0.3, inplace=False)\n",
      "  (fc): Linear(in_features=512, out_features=10, bias=True)\n",
      "  (softmax): Softmax(dim=1)\n",
      ")\n"
     ]
    }
   ],
   "source": [
    "# model hyperparamters\n",
    "vocab_size = len(word2int)\n",
    "output_size = 10\n",
    "embedding_size = 256\n",
    "hidden_size = 512\n",
    "n_layers = 2\n",
    "dropout=0.25\n",
    "\n",
    "model = MovieRatingModel(vocab_size, output_size, hidden_size, embedding_size, n_layers, dropout)\n",
    "print(model)"
   ]
  },
  {
   "cell_type": "markdown",
   "id": "1dedb073",
   "metadata": {
    "papermill": {
     "duration": 0.171728,
     "end_time": "2022-06-14T14:32:20.030222",
     "exception": false,
     "start_time": "2022-06-14T14:32:19.858494",
     "status": "completed"
    },
    "tags": []
   },
   "source": [
    "### Training"
   ]
  },
  {
   "cell_type": "code",
   "execution_count": 179,
   "id": "d5479a64",
   "metadata": {
    "scrolled": true
   },
   "outputs": [
    {
     "name": "stdout",
     "output_type": "stream",
     "text": [
      "Epoch [1/10], Train Loss: 2.2331, Valid Loss: 2.2229, Train Acc: 20.00%, Valid Acc: 21.15%\n",
      "Epoch [2/10], Train Loss: 2.2243, Valid Loss: 2.2191, Train Acc: 20.83%, Valid Acc: 24.37%\n",
      "Epoch [3/10], Train Loss: 2.1959, Valid Loss: 2.1996, Train Acc: 25.54%, Valid Acc: 22.16%\n",
      "Epoch [4/10], Train Loss: 2.1645, Valid Loss: 2.1657, Train Acc: 30.03%, Valid Acc: 29.31%\n",
      "Epoch [5/10], Train Loss: 2.1319, Valid Loss: 2.1882, Train Acc: 33.06%, Valid Acc: 26.27%\n",
      "Epoch [6/10], Train Loss: 2.0960, Valid Loss: 2.1464, Train Acc: 36.84%, Valid Acc: 31.25%\n",
      "Epoch [7/10], Train Loss: 2.0639, Valid Loss: 2.1412, Train Acc: 39.82%, Valid Acc: 31.71%\n",
      "Epoch [8/10], Train Loss: 2.0507, Valid Loss: 2.1464, Train Acc: 41.05%, Valid Acc: 30.99%\n",
      "Epoch [9/10], Train Loss: 2.0386, Valid Loss: 2.1475, Train Acc: 42.30%, Valid Acc: 31.07%\n",
      "Epoch [10/10], Train Loss: 2.0317, Valid Loss: 2.1443, Train Acc: 42.99%, Valid Acc: 31.31%\n"
     ]
    }
   ],
   "source": [
    "import torch.optim as optim\n",
    "import matplotlib.pyplot as plt\n",
    "\n",
    "model = MovieRatingModel(vocab_size, output_size)\n",
    "criterion = nn.CrossEntropyLoss()\n",
    "optimizer = optim.Adam(model.parameters(), lr=0.001)\n",
    "device = torch.device(\"cuda:0\" if torch.cuda.is_available() else \"cpu\")\n",
    "model.to(device)\n",
    "n_epochs = 10\n",
    "train_losses, valid_losses = [], []\n",
    "train_acc, valid_acc = [], []\n",
    "\n",
    "for epoch in range(1, n_epochs+1):\n",
    "    train_loss, correct_train = 0, 0\n",
    "    model.train()\n",
    "    \n",
    "    for inputs, ratings in trainloader:\n",
    "        inputs, ratings = inputs.to(device), ratings.to(device)\n",
    "        \n",
    "        optimizer.zero_grad()\n",
    "        \n",
    "        outputs = model(inputs)\n",
    "        \n",
    "        loss = criterion(outputs, ratings)\n",
    "        \n",
    "        loss.backward()\n",
    "        \n",
    "        optimizer.step()\n",
    "        \n",
    "        train_loss += loss.item() * inputs.size(0)\n",
    "        \n",
    "        _, predicted = torch.max(outputs.data, 1)\n",
    "        correct_train += (predicted == ratings).sum().item()\n",
    "        \n",
    "    train_loss = train_loss / len(trainloader.dataset)\n",
    "    train_losses.append(train_loss)\n",
    "    train_acc.append(100. * correct_train / len(trainloader.dataset))\n",
    "    valid_loss, correct_valid = 0, 0\n",
    "    model.eval()\n",
    "\n",
    "    with torch.no_grad():\n",
    "        for inputs, ratings in valloader:\n",
    "            inputs, ratings = inputs.to(device), ratings.to(device)\n",
    "            outputs = model(inputs)\n",
    "            loss = criterion(outputs, ratings)\n",
    "            valid_loss += loss.item() * inputs.size(0)\n",
    "            _, predicted = torch.max(outputs.data, 1)\n",
    "            correct_valid += (predicted == ratings).sum().item()\n",
    "    \n",
    "    valid_loss = valid_loss / len(valloader.dataset)\n",
    "    valid_losses.append(valid_loss)\n",
    "    valid_acc.append(100. * correct_valid / len(valloader.dataset))\n",
    "    \n",
    "    print('Epoch [{}/{}], Train Loss: {:.4f}, Valid Loss: {:.4f}, Train Acc: {:.2f}%, Valid Acc: {:.2f}%'\n",
    "          .format(epoch, n_epochs, train_loss, valid_loss, train_acc[-1], valid_acc[-1]))"
   ]
  },
  {
   "cell_type": "code",
   "execution_count": 180,
   "id": "bd7bda41",
   "metadata": {},
   "outputs": [],
   "source": [
    "# save the trained model\n",
    "torch.save(model.state_dict(), 'movie_rating_model.pt')"
   ]
  },
  {
   "cell_type": "code",
   "execution_count": 184,
   "id": "87a671f7",
   "metadata": {
    "execution": {
     "iopub.execute_input": "2022-06-14T14:38:39.565684Z",
     "iopub.status.busy": "2022-06-14T14:38:39.565267Z",
     "iopub.status.idle": "2022-06-14T14:38:39.799065Z",
     "shell.execute_reply": "2022-06-14T14:38:39.798055Z"
    },
    "papermill": {
     "duration": 0.604159,
     "end_time": "2022-06-14T14:38:39.801475",
     "exception": false,
     "start_time": "2022-06-14T14:38:39.197316",
     "status": "completed"
    },
    "tags": []
   },
   "outputs": [
    {
     "data": {
      "image/png": "[encoded data removed]",
      "text/plain": [
       "<Figure size 432x288 with 1 Axes>"
      ]
     },
     "metadata": {
      "needs_background": "light"
     },
     "output_type": "display_data"
    },
    {
     "data": {
      "image/png": "[encoded data removed]",
      "text/plain": [
       "<Figure size 432x288 with 1 Axes>"
      ]
     },
     "metadata": {
      "needs_background": "light"
     },
     "output_type": "display_data"
    }
   ],
   "source": [
    "# plot the training and validation loss\n",
    "plt.plot(train_losses, label='Training Loss')\n",
    "plt.plot(valid_losses, label='Validation Loss')\n",
    "plt.xlabel('Epoch')\n",
    "plt.ylabel('Loss')\n",
    "plt.legend()\n",
    "plt.show()\n",
    "\n",
    "# plot the training and validation accuracy\n",
    "plt.plot(train_acc, label='Training Accuracy')\n",
    "plt.plot(valid_acc, label='Validation Accuracy')\n",
    "plt.xlabel('Epoch')\n",
    "plt.ylabel('Accuracy')\n",
    "plt.legend()\n",
    "plt.show()"
   ]
  },
  {
   "cell_type": "markdown",
   "id": "325dbb12",
   "metadata": {
    "papermill": {
     "duration": 0.413973,
     "end_time": "2022-06-14T14:38:41.866411",
     "exception": false,
     "start_time": "2022-06-14T14:38:41.452438",
     "status": "completed"
    },
    "tags": []
   },
   "source": [
    "So, as we can see from both graph above we can conclude that our model tends to not do too well. As you can see, the validation loss start to increasing after 6th epochs, and the validation accuracy also didn't improved significantly anymore after 6th epochs."
   ]
  },
  {
   "cell_type": "markdown",
   "id": "d66a0496",
   "metadata": {
    "papermill": {
     "duration": 0.367705,
     "end_time": "2022-06-14T14:38:42.605373",
     "exception": false,
     "start_time": "2022-06-14T14:38:42.237668",
     "status": "completed"
    },
    "tags": []
   },
   "source": [
    "### Testing"
   ]
  },
  {
   "cell_type": "code",
   "execution_count": 188,
   "id": "0eac45ad",
   "metadata": {
    "execution": {
     "iopub.execute_input": "2022-06-14T14:38:44.114762Z",
     "iopub.status.busy": "2022-06-14T14:38:44.114369Z",
     "iopub.status.idle": "2022-06-14T14:38:46.905826Z",
     "shell.execute_reply": "2022-06-14T14:38:46.904560Z"
    },
    "papermill": {
     "duration": 3.160795,
     "end_time": "2022-06-14T14:38:46.910707",
     "exception": false,
     "start_time": "2022-06-14T14:38:43.749912",
     "status": "completed"
    },
    "tags": []
   },
   "outputs": [
    {
     "name": "stdout",
     "output_type": "stream",
     "text": [
      "Test Loss:  2.3021603715260825\n",
      "Test Accuracy:  18.88 %\n"
     ]
    }
   ],
   "source": [
    "model.eval()\n",
    "\n",
    "test_loss, correct_test = 0, 0\n",
    "test_acc = 0\n",
    "test_losses = []\n",
    "\n",
    "with torch.no_grad():\n",
    "        for inputs, ratings in testloader:\n",
    "            \n",
    "            inputs, ratings = inputs.to(device), ratings.to(device)\n",
    "            \n",
    "            outputs = model(inputs)\n",
    "            \n",
    "            loss = criterion(outputs, ratings)\n",
    "            \n",
    "            test_loss += loss.item() * inputs.size(0)\n",
    "            \n",
    "            _, predicted = torch.max(outputs.data, 1)\n",
    "            correct_test += (predicted == ratings).sum().item()\n",
    "            \n",
    "test_loss = test_loss / len(testloader.dataset)\n",
    "test_acc = 100. * correct_test / len(valloader.dataset)\n",
    "print('Test Loss: ', test_loss)\n",
    "print('Test Accuracy: ', test_acc, '%')"
   ]
  },
  {
   "cell_type": "markdown",
   "id": "3121a804",
   "metadata": {
    "papermill": {
     "duration": 0.370631,
     "end_time": "2022-06-14T14:38:47.651043",
     "exception": false,
     "start_time": "2022-06-14T14:38:47.280412",
     "status": "completed"
    },
    "tags": []
   },
   "source": [
    "Our model accuracy on test data not that good. It could predict unseen data `18.88%` correctly."
   ]
  },
  {
   "cell_type": "markdown",
   "id": "e87ca367",
   "metadata": {
    "papermill": {
     "duration": 0.412345,
     "end_time": "2022-06-14T14:38:48.430981",
     "exception": false,
     "start_time": "2022-06-14T14:38:48.018636",
     "status": "completed"
    },
    "tags": []
   },
   "source": [
    "### Evaluation Metrics"
   ]
  },
  {
   "cell_type": "code",
   "execution_count": 189,
   "id": "ca3916f2",
   "metadata": {
    "execution": {
     "iopub.execute_input": "2022-06-14T14:38:49.186835Z",
     "iopub.status.busy": "2022-06-14T14:38:49.186432Z",
     "iopub.status.idle": "2022-06-14T14:38:49.211589Z",
     "shell.execute_reply": "2022-06-14T14:38:49.210248Z"
    },
    "papermill": {
     "duration": 0.417579,
     "end_time": "2022-06-14T14:38:49.214552",
     "exception": false,
     "start_time": "2022-06-14T14:38:48.796973",
     "status": "completed"
    },
    "scrolled": true,
    "tags": []
   },
   "outputs": [
    {
     "data": {
      "image/png": "[encoded data removed]",
      "text/plain": [
       "<Figure size 360x360 with 2 Axes>"
      ]
     },
     "metadata": {
      "needs_background": "light"
     },
     "output_type": "display_data"
    }
   ],
   "source": [
    "from sklearn.metrics import confusion_matrix\n",
    "import seaborn as sns\n",
    "\n",
    "model.eval()\n",
    "all_predicted = []\n",
    "all_target = []\n",
    "\n",
    "with torch.no_grad():\n",
    "\n",
    "    for inputs, ratings in testloader:\n",
    "\n",
    "        inputs, ratings = inputs.to(device), ratings.to(device)\n",
    "        outputs = model(inputs)\n",
    "        _, predicted = torch.max(outputs.data, 1)\n",
    "        all_predicted += predicted.cpu().numpy().tolist()\n",
    "        all_target += ratings.cpu().numpy().tolist()\n",
    "\n",
    "# create confusion matrix\n",
    "cm = confusion_matrix(all_target, all_predicted)\n",
    "\n",
    "# plot the confusion matrix\n",
    "plt.figure(figsize=(5, 5))\n",
    "sns.heatmap(cm, annot=True, fmt='g')\n",
    "plt.title('Confusion Matrix')\n",
    "plt.show()"
   ]
  }
 ],
 "metadata": {
  "kernelspec": {
   "display_name": "Python 3",
   "language": "python",
   "name": "python3"
  },
  "language_info": {
   "codemirror_mode": {
    "name": "ipython",
    "version": 3
   },
   "file_extension": ".py",
   "mimetype": "text/x-python",
   "name": "python",
   "nbconvert_exporter": "python",
   "pygments_lexer": "ipython3",
   "version": "3.8.8"
  },
  "papermill": {
   "default_parameters": {},
   "duration": 676.339462,
   "end_time": "2022-06-14T14:38:57.651789",
   "environment_variables": {},
   "exception": null,
   "input_path": "__notebook__.ipynb",
   "output_path": "__notebook__.ipynb",
   "parameters": {},
   "start_time": "2022-06-14T14:27:41.312327",
   "version": "2.3.4"
  }
 },
 "nbformat": 4,
 "nbformat_minor": 5
}
